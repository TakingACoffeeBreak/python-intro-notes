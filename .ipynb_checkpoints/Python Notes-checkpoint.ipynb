{
 "cells": [
  {
   "cell_type": "markdown",
   "id": "dd4d49e8",
   "metadata": {},
   "source": [
    "<h1 style=\"font-size:3rem;color:skyblue;\"><center>Python Basics Notes</center></h1>"
   ]
  },
  {
   "cell_type": "markdown",
   "id": "bb95c7ef",
   "metadata": {},
   "source": [
    "## <span style='background:Lightpink'>Topic 1: Data types          </span>"
   ]
  },
  {
   "cell_type": "markdown",
   "id": "1a59dac5",
   "metadata": {},
   "source": [
    "<h3 span style='background:palevioletred'>Int, Float, String and Bool</span></h3>"
   ]
  },
  {
   "cell_type": "markdown",
   "id": "cd607df6",
   "metadata": {},
   "source": [
    "#### <span style='color:hotpink'> ****1. INTEGER**** - Positive or negative whole number. </span>"
   ]
  },
  {
   "cell_type": "markdown",
   "id": "9669fed4",
   "metadata": {},
   "source": [
    "#### <span style='color:hotpink'> ****2. FLOAT**** - Positive or negative of a decimal number. </span>"
   ]
  },
  {
   "cell_type": "markdown",
   "id": "139234b3",
   "metadata": {},
   "source": [
    "#### <span style='color:hotpink'> ****3. STRING**** - a number or a word with ' or \". </span>"
   ]
  },
  {
   "cell_type": "markdown",
   "id": "1059d4a0",
   "metadata": {},
   "source": [
    "#### <span style='color:hotpink'> ****4. BOOL**** - a Boolean is True 1 or False 0. </span>"
   ]
  },
  {
   "cell_type": "markdown",
   "id": "e36ff363",
   "metadata": {},
   "source": [
    "## <span style='background:Lightpink'>Topic 2: Output and Printing          </span>"
   ]
  },
  {
   "cell_type": "markdown",
   "id": "3f76fa03",
   "metadata": {},
   "source": [
    "<h3 span style='background:palevioletred'>Print different Data Types </span></h3>"
   ]
  },
  {
   "cell_type": "code",
   "execution_count": 16,
   "id": "9af0d01c",
   "metadata": {},
   "outputs": [
    {
     "name": "stdout",
     "output_type": "stream",
     "text": [
      "hello I can do this False\n"
     ]
    }
   ],
   "source": [
    "print(\"hello\", 'I can do this', False)"
   ]
  },
  {
   "cell_type": "markdown",
   "id": "682ce970",
   "metadata": {},
   "source": [
    "<h3 span style='background:palevioletred'>Uses of  \n",
    "   \\n and   \\t</span></h3>"
   ]
  },
  {
   "cell_type": "code",
   "execution_count": 19,
   "id": "ecf8bcf7",
   "metadata": {},
   "outputs": [
    {
     "name": "stdout",
     "output_type": "stream",
     "text": [
      "henlo \n",
      " Hello\n"
     ]
    }
   ],
   "source": [
    "print('henlo','\\n','Hello')"
   ]
  },
  {
   "cell_type": "code",
   "execution_count": 32,
   "id": "3310265b",
   "metadata": {
    "scrolled": true
   },
   "outputs": [
    {
     "name": "stdout",
     "output_type": "stream",
     "text": [
      "henlo \t Henlo another print\n"
     ]
    }
   ],
   "source": [
    "#end keyword determines how the print command will end it's output\n",
    "#\\t is tab\n",
    "\n",
    "print('henlo','\\t', 'Henlo', end=' ')\n",
    "print('another print')"
   ]
  },
  {
   "cell_type": "code",
   "execution_count": 34,
   "id": "f1d94d89",
   "metadata": {},
   "outputs": [
    {
     "name": "stdout",
     "output_type": "stream",
     "text": [
      "henlo \t Henlo and another print\n"
     ]
    }
   ],
   "source": [
    "#can also put any word in  end=' '\n",
    "\n",
    "print('henlo','\\t', 'Henlo', end=' and ')\n",
    "print('another print')"
   ]
  },
  {
   "cell_type": "markdown",
   "id": "117877b7",
   "metadata": {},
   "source": [
    "## <span style='background:Lightpink'>Topic 3: Variables        </span>"
   ]
  },
  {
   "cell_type": "markdown",
   "id": "044ddc83",
   "metadata": {},
   "source": [
    "<h3 span style='background:palevioletred'>Store a Variable </span></h3>"
   ]
  },
  {
   "cell_type": "code",
   "execution_count": 50,
   "id": "998c4353",
   "metadata": {},
   "outputs": [
    {
     "ename": "TypeError",
     "evalue": "'str' object is not callable",
     "output_type": "error",
     "traceback": [
      "\u001b[1;31m---------------------------------------------------------------------------\u001b[0m",
      "\u001b[1;31mTypeError\u001b[0m                                 Traceback (most recent call last)",
      "Input \u001b[1;32mIn [50]\u001b[0m, in \u001b[0;36m<cell line: 2>\u001b[1;34m()\u001b[0m\n\u001b[0;32m      1\u001b[0m var1 \u001b[38;5;241m=\u001b[39m \u001b[38;5;124m\"\u001b[39m\u001b[38;5;124mGood Morning to you!\u001b[39m\u001b[38;5;124m\"\u001b[39m\n\u001b[1;32m----> 2\u001b[0m \u001b[38;5;28;43mprint\u001b[39;49m\u001b[43m(\u001b[49m\u001b[38;5;28;43mstr\u001b[39;49m\u001b[43m(\u001b[49m\u001b[43mvar1\u001b[49m\u001b[43m)\u001b[49m\u001b[43m)\u001b[49m\n",
      "\u001b[1;31mTypeError\u001b[0m: 'str' object is not callable"
     ]
    }
   ],
   "source": [
    "var1 = \"Good Morning to you!\"\n",
    "print(var1)"
   ]
  },
  {
   "cell_type": "code",
   "execution_count": null,
   "id": "74ca59e9",
   "metadata": {},
   "outputs": [],
   "source": []
  }
 ],
 "metadata": {
  "kernelspec": {
   "display_name": "Python 3 (ipykernel)",
   "language": "python",
   "name": "python3"
  },
  "language_info": {
   "codemirror_mode": {
    "name": "ipython",
    "version": 3
   },
   "file_extension": ".py",
   "mimetype": "text/x-python",
   "name": "python",
   "nbconvert_exporter": "python",
   "pygments_lexer": "ipython3",
   "version": "3.10.6"
  }
 },
 "nbformat": 4,
 "nbformat_minor": 5
}

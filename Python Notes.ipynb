{
 "cells": [
  {
   "cell_type": "markdown",
   "id": "dd4d49e8",
   "metadata": {},
   "source": [
    "<h1 style=\"font-size:3rem;color:skyblue;\"><center>Python Basics Notes</center></h1>\n",
    "<center><i>Ji Hee Choi note made from Aug 8 - 10 2022<i><center>\n"
   ]
  },
  {
   "cell_type": "markdown",
   "id": "bb95c7ef",
   "metadata": {},
   "source": [
    "## <span style='background:Lightpink'>Topic 1: Data types          </span>"
   ]
  },
  {
   "cell_type": "markdown",
   "id": "1a59dac5",
   "metadata": {},
   "source": [
    "<h3 span style='background:palevioletred'>Int, Float, String and Bool</span></h3>"
   ]
  },
  {
   "cell_type": "markdown",
   "id": "cd607df6",
   "metadata": {},
   "source": [
    "#### <span style='color:hotpink'> ****1. INTEGER**** - Positive or negative whole number. </span>"
   ]
  },
  {
   "cell_type": "markdown",
   "id": "9669fed4",
   "metadata": {},
   "source": [
    "#### <span style='color:hotpink'> ****2. FLOAT**** - Positive or negative of a decimal number. </span>"
   ]
  },
  {
   "cell_type": "markdown",
   "id": "139234b3",
   "metadata": {},
   "source": [
    "#### <span style='color:hotpink'> ****3. STRING**** - a number or a word with ' or \". </span>"
   ]
  },
  {
   "cell_type": "markdown",
   "id": "1059d4a0",
   "metadata": {},
   "source": [
    "#### <span style='color:hotpink'> ****4. BOOL**** - a Boolean is True 1 or False 0. </span>"
   ]
  },
  {
   "cell_type": "markdown",
   "id": "e36ff363",
   "metadata": {},
   "source": [
    "## <span style='background:Lightpink'>Topic 2: Output and Printing          </span>"
   ]
  },
  {
   "cell_type": "markdown",
   "id": "3f76fa03",
   "metadata": {},
   "source": [
    "<h3 span style='background:palevioletred'>Print different Data Types </span></h3>"
   ]
  },
  {
   "cell_type": "code",
   "execution_count": 16,
   "id": "9af0d01c",
   "metadata": {},
   "outputs": [
    {
     "name": "stdout",
     "output_type": "stream",
     "text": [
      "hello I can do this False\n"
     ]
    }
   ],
   "source": [
    "print(\"hello\", 'I can do this', False)"
   ]
  },
  {
   "cell_type": "markdown",
   "id": "682ce970",
   "metadata": {},
   "source": [
    "<h3 span style='background:palevioletred'>Uses of  \n",
    "   \\n and   \\t</span></h3>"
   ]
  },
  {
   "cell_type": "code",
   "execution_count": 19,
   "id": "ecf8bcf7",
   "metadata": {},
   "outputs": [
    {
     "name": "stdout",
     "output_type": "stream",
     "text": [
      "henlo \n",
      " Hello\n"
     ]
    }
   ],
   "source": [
    "print('henlo','\\n','Hello')"
   ]
  },
  {
   "cell_type": "code",
   "execution_count": 32,
   "id": "3310265b",
   "metadata": {
    "scrolled": true
   },
   "outputs": [
    {
     "name": "stdout",
     "output_type": "stream",
     "text": [
      "henlo \t Henlo another print\n"
     ]
    }
   ],
   "source": [
    "#end keyword determines how the print command will end it's output\n",
    "#\\t is tab\n",
    "\n",
    "print('henlo','\\t', 'Henlo', end=' ')\n",
    "print('another print')"
   ]
  },
  {
   "cell_type": "code",
   "execution_count": 34,
   "id": "f1d94d89",
   "metadata": {},
   "outputs": [
    {
     "name": "stdout",
     "output_type": "stream",
     "text": [
      "henlo \t Henlo and another print\n"
     ]
    }
   ],
   "source": [
    "#can also put any word in  end=' '\n",
    "\n",
    "print('henlo','\\t', 'Henlo', end=' and ')\n",
    "print('another print')"
   ]
  },
  {
   "cell_type": "markdown",
   "id": "117877b7",
   "metadata": {},
   "source": [
    "## <span style='background:Lightpink'>Topic 3: Variables   </span>"
   ]
  },
  {
   "cell_type": "markdown",
   "id": "044ddc83",
   "metadata": {},
   "source": [
    "<h3 span style='background:palevioletred'>Store a Variable </span></h3>"
   ]
  },
  {
   "cell_type": "code",
   "execution_count": 68,
   "id": "998c4353",
   "metadata": {},
   "outputs": [
    {
     "data": {
      "text/plain": [
       "'Good Morning to you! '"
      ]
     },
     "execution_count": 68,
     "metadata": {},
     "output_type": "execute_result"
    }
   ],
   "source": [
    "#Var1 is example of variable storage\n",
    "\n",
    "var1 = \"Good Morning to you! \"\n",
    "var1"
   ]
  },
  {
   "cell_type": "code",
   "execution_count": 55,
   "id": "74ca59e9",
   "metadata": {},
   "outputs": [
    {
     "data": {
      "text/plain": [
       "'Math question is easy'"
      ]
     },
     "execution_count": 55,
     "metadata": {},
     "output_type": "execute_result"
    }
   ],
   "source": [
    "#another example \n",
    "\n",
    "math = 'Math question is easy '\n",
    "math"
   ]
  },
  {
   "cell_type": "code",
   "execution_count": 67,
   "id": "ba218d42",
   "metadata": {},
   "outputs": [
    {
     "data": {
      "text/plain": [
       "'Good Morning to you!Math question is easy'"
      ]
     },
     "execution_count": 67,
     "metadata": {},
     "output_type": "execute_result"
    }
   ],
   "source": [
    "#example combination of variables\n",
    "\n",
    "var1 + math"
   ]
  },
  {
   "cell_type": "markdown",
   "id": "6bcb3242",
   "metadata": {},
   "source": [
    "<h3 span style='background:palevioletred'>Input of variables </span></h3>"
   ]
  },
  {
   "cell_type": "code",
   "execution_count": 5,
   "id": "1bd52bda",
   "metadata": {},
   "outputs": [
    {
     "name": "stdout",
     "output_type": "stream",
     "text": [
      "Name: Jihee\n",
      "Age: 27\n",
      "Hello! Jihee your age 27 years old\n"
     ]
    }
   ],
   "source": [
    "#example\n",
    "\n",
    "name = input('Name: ')\n",
    "age = input('Age: ')\n",
    "print('Hello!', name, 'your age', age, 'years old')"
   ]
  },
  {
   "cell_type": "markdown",
   "id": "0ba90258",
   "metadata": {},
   "source": [
    "## <span style='background:Lightpink'>Topic 4: Arithmetic Operator  </span>"
   ]
  },
  {
   "cell_type": "code",
   "execution_count": 4,
   "id": "966c6e3c",
   "metadata": {},
   "outputs": [
    {
     "name": "stdout",
     "output_type": "stream",
     "text": [
      "9\n"
     ]
    }
   ],
   "source": [
    "#Numbers only\n",
    "\n",
    "x = 5\n",
    "y = 4\n",
    "result = x + y\n",
    "print(result)"
   ]
  },
  {
   "cell_type": "code",
   "execution_count": 6,
   "id": "69eccaaa",
   "metadata": {},
   "outputs": [],
   "source": [
    "# mod is % - Use when computing for a remainder\n",
    "# example is x % y\n",
    "\n",
    "# exponend is **\n",
    "# example is x ** y\n",
    "\n",
    "# integer result of a division is //\n",
    "# example is x // y "
   ]
  },
  {
   "cell_type": "markdown",
   "id": "2fa6a8f0",
   "metadata": {},
   "source": [
    "## <span style='background:Lightpink'>Topic 5: String Method  </span>"
   ]
  },
  {
   "cell_type": "code",
   "execution_count": 7,
   "id": "121320ec",
   "metadata": {},
   "outputs": [
    {
     "name": "stdout",
     "output_type": "stream",
     "text": [
      "GOOD MORNING EVERYONE I AM HAPPY TO SEE YOU! \n"
     ]
    }
   ],
   "source": [
    "#Upercase by using .upper()\n",
    "\n",
    "morning = 'good morning everyone i am happy to see you! '.upper()\n",
    "print(morning)"
   ]
  },
  {
   "cell_type": "code",
   "execution_count": 10,
   "id": "e5b81243",
   "metadata": {
    "scrolled": true
   },
   "outputs": [
    {
     "name": "stdout",
     "output_type": "stream",
     "text": [
      "GOOD MORNING EVERYONE I AM HAPPY TO SEE YOU! \n"
     ]
    }
   ],
   "source": [
    "#Other Uppercase is\n",
    "\n",
    "morning = 'good morning everyone i am happy to see you! '\n",
    "print(morning.upper())"
   ]
  },
  {
   "cell_type": "code",
   "execution_count": 9,
   "id": "2447ea44",
   "metadata": {},
   "outputs": [
    {
     "name": "stdout",
     "output_type": "stream",
     "text": [
      "good morning everybody! \n"
     ]
    }
   ],
   "source": [
    "#Lowerase by using .lower()\n",
    "\n",
    "morning = 'GOOD MORNING EVERYBODY! '.lower()\n",
    "print(morning)"
   ]
  },
  {
   "cell_type": "code",
   "execution_count": 12,
   "id": "9aa9dd2f",
   "metadata": {},
   "outputs": [
    {
     "name": "stdout",
     "output_type": "stream",
     "text": [
      "Good morning everyone i am happy to see you! \n"
     ]
    }
   ],
   "source": [
    "#Capital letter on first word is .capitalize()\n",
    " \n",
    "morning = 'good morning everyone i am happy to see you! '.capitalize()\n",
    "print(morning)"
   ]
  },
  {
   "cell_type": "code",
   "execution_count": 16,
   "id": "a25182dd",
   "metadata": {},
   "outputs": [
    {
     "name": "stdout",
     "output_type": "stream",
     "text": [
      "6\n"
     ]
    }
   ],
   "source": [
    "#Count the letter or string is .count()\n",
    "#in this case I want to count how many 'o' is there\n",
    " \n",
    "morning = 'good morning everyone i am happy to see you! '\n",
    "print(morning.count('o'))"
   ]
  },
  {
   "cell_type": "markdown",
   "id": "33d62130",
   "metadata": {},
   "source": [
    "## <span style='background:Lightpink'>Topic 6: Conditional Operators </span>"
   ]
  },
  {
   "cell_type": "code",
   "execution_count": 20,
   "id": "8a2f01d7",
   "metadata": {},
   "outputs": [
    {
     "name": "stdout",
     "output_type": "stream",
     "text": [
      "HenloHenloHenlo\n"
     ]
    }
   ],
   "source": [
    "#Multiply string by an integer\n",
    "\n",
    "x = 'Henlo'\n",
    "y = 3\n",
    "print(x*y)"
   ]
  },
  {
   "cell_type": "code",
   "execution_count": 23,
   "id": "1185a3e9",
   "metadata": {},
   "outputs": [
    {
     "name": "stdout",
     "output_type": "stream",
     "text": [
      "Henlo yes\n"
     ]
    }
   ],
   "source": [
    "#Add two string\n",
    "\n",
    "x = 'Henlo '\n",
    "y = 'yes'\n",
    "print(x+y)"
   ]
  },
  {
   "cell_type": "markdown",
   "id": "ce722d32",
   "metadata": {},
   "source": [
    "<h3 span style='background:palevioletred'>Conditions and Conditional Operators </span></h3>"
   ]
  },
  {
   "cell_type": "code",
   "execution_count": 24,
   "id": "8419bba5",
   "metadata": {},
   "outputs": [],
   "source": [
    "#It compare two variables or data types and identify it\n",
    "#weather it is True or False "
   ]
  },
  {
   "cell_type": "code",
   "execution_count": 25,
   "id": "0b22bde4",
   "metadata": {},
   "outputs": [],
   "source": [
    "# == equal\n",
    "# != not equal to (left side not equal to right)\n",
    "# <=\n",
    "# =>\n",
    "# <\n",
    "# >"
   ]
  },
  {
   "cell_type": "code",
   "execution_count": 27,
   "id": "26ab60f0",
   "metadata": {},
   "outputs": [
    {
     "name": "stdout",
     "output_type": "stream",
     "text": [
      "True\n"
     ]
    }
   ],
   "source": [
    "#Example 1\n",
    "#True because they are equally the same\n",
    "\n",
    "x = 'Hi'\n",
    "y = 'Hi'\n",
    "print(x == y)"
   ]
  },
  {
   "cell_type": "code",
   "execution_count": 29,
   "id": "52bcb434",
   "metadata": {},
   "outputs": [
    {
     "name": "stdout",
     "output_type": "stream",
     "text": [
      "False\n"
     ]
    }
   ],
   "source": [
    "#Example 2\n",
    "#false because they are equally the same\n",
    "\n",
    "x = 'Hi'\n",
    "y = 'Hi'\n",
    "print(x != y)"
   ]
  },
  {
   "cell_type": "code",
   "execution_count": 30,
   "id": "a44a6dd8",
   "metadata": {},
   "outputs": [
    {
     "name": "stdout",
     "output_type": "stream",
     "text": [
      "True\n"
     ]
    }
   ],
   "source": [
    "#Example 2\n",
    "#True because they are left are not equal to right\n",
    "\n",
    "x = 'Hi'\n",
    "y = 'HI'\n",
    "print(x != y)"
   ]
  },
  {
   "cell_type": "code",
   "execution_count": null,
   "id": "a001a1ed",
   "metadata": {},
   "outputs": [],
   "source": []
  }
 ],
 "metadata": {
  "kernelspec": {
   "display_name": "Python 3 (ipykernel)",
   "language": "python",
   "name": "python3"
  },
  "language_info": {
   "codemirror_mode": {
    "name": "ipython",
    "version": 3
   },
   "file_extension": ".py",
   "mimetype": "text/x-python",
   "name": "python",
   "nbconvert_exporter": "python",
   "pygments_lexer": "ipython3",
   "version": "3.10.6"
  }
 },
 "nbformat": 4,
 "nbformat_minor": 5
}
